{
 "cells": [
  {
   "cell_type": "code",
   "execution_count": 6,
   "metadata": {
    "collapsed": false
   },
   "outputs": [],
   "source": [
    "from nltk.tokenize import word_tokenize\n",
    "import os\n",
    "import pandas as pd\n",
    "\n",
    "\n",
    "df = pd.read_csv(os.getcwd() + '/../data/all_text.csv', encoding = 'iso-8859-1')\n",
    "\n",
    "# top chacters\n",
    "top_n_characters = 20"
   ]
  },
  {
   "cell_type": "code",
   "execution_count": 7,
   "metadata": {
    "collapsed": false
   },
   "outputs": [
    {
     "data": {
      "text/html": [
       "<div>\n",
       "<table border=\"1\" class=\"dataframe\">\n",
       "  <thead>\n",
       "    <tr style=\"text-align: right;\">\n",
       "      <th></th>\n",
       "      <th>episode</th>\n",
       "      <th>text</th>\n",
       "      <th>drop</th>\n",
       "    </tr>\n",
       "  </thead>\n",
       "  <tbody>\n",
       "    <tr>\n",
       "      <th>1</th>\n",
       "      <td>1</td>\n",
       "      <td>Pen:  Jake! Jake! Good mornin'! Whatcha doin',...</td>\n",
       "      <td>0</td>\n",
       "    </tr>\n",
       "    <tr>\n",
       "      <th>2</th>\n",
       "      <td>1</td>\n",
       "      <td>Jake:  Meditating.\\r\\n</td>\n",
       "      <td>0</td>\n",
       "    </tr>\n",
       "    <tr>\n",
       "      <th>3</th>\n",
       "      <td>1</td>\n",
       "      <td>Pen:  What are you meditating about, dude?\\r\\n</td>\n",
       "      <td>0</td>\n",
       "    </tr>\n",
       "    <tr>\n",
       "      <th>4</th>\n",
       "      <td>1</td>\n",
       "      <td>Jake:  Wait, dude. I'm connecting to the inter...</td>\n",
       "      <td>0</td>\n",
       "    </tr>\n",
       "    <tr>\n",
       "      <th>6</th>\n",
       "      <td>1</td>\n",
       "      <td>Pen:  Ha ha! Beep boop boop boop beep boop.\\r\\n</td>\n",
       "      <td>0</td>\n",
       "    </tr>\n",
       "  </tbody>\n",
       "</table>\n",
       "</div>"
      ],
      "text/plain": [
       "   episode                                               text  drop\n",
       "1        1  Pen:  Jake! Jake! Good mornin'! Whatcha doin',...     0\n",
       "2        1                             Jake:  Meditating.\\r\\n     0\n",
       "3        1     Pen:  What are you meditating about, dude?\\r\\n     0\n",
       "4        1  Jake:  Wait, dude. I'm connecting to the inter...     0\n",
       "6        1    Pen:  Ha ha! Beep boop boop boop beep boop.\\r\\n     0"
      ]
     },
     "execution_count": 7,
     "metadata": {},
     "output_type": "execute_result"
    }
   ],
   "source": [
    "# drops lines that aren't dialog\n",
    "df['drop'] = 0\n",
    "df.ix[df['text'].str[0] == '[', 'drop'] = 1\n",
    "df = df.ix[df['drop'] == 0, :]\n",
    "df.head()"
   ]
  },
  {
   "cell_type": "code",
   "execution_count": 8,
   "metadata": {
    "collapsed": false
   },
   "outputs": [
    {
     "data": {
      "text/html": [
       "<div>\n",
       "<table border=\"1\" class=\"dataframe\">\n",
       "  <thead>\n",
       "    <tr style=\"text-align: right;\">\n",
       "      <th></th>\n",
       "      <th>episode</th>\n",
       "      <th>text</th>\n",
       "      <th>drop</th>\n",
       "      <th>character</th>\n",
       "    </tr>\n",
       "  </thead>\n",
       "  <tbody>\n",
       "    <tr>\n",
       "      <th>1</th>\n",
       "      <td>1</td>\n",
       "      <td>Jake! Jake! Good mornin'! Whatcha doin', buddy?</td>\n",
       "      <td>0</td>\n",
       "      <td>Pen</td>\n",
       "    </tr>\n",
       "    <tr>\n",
       "      <th>2</th>\n",
       "      <td>1</td>\n",
       "      <td>Meditating.</td>\n",
       "      <td>0</td>\n",
       "      <td>Jake</td>\n",
       "    </tr>\n",
       "    <tr>\n",
       "      <th>3</th>\n",
       "      <td>1</td>\n",
       "      <td>What are you meditating about, dude?</td>\n",
       "      <td>0</td>\n",
       "      <td>Pen</td>\n",
       "    </tr>\n",
       "    <tr>\n",
       "      <th>4</th>\n",
       "      <td>1</td>\n",
       "      <td>Wait, dude. I'm connecting to the internet wit...</td>\n",
       "      <td>0</td>\n",
       "      <td>Jake</td>\n",
       "    </tr>\n",
       "    <tr>\n",
       "      <th>6</th>\n",
       "      <td>1</td>\n",
       "      <td>Ha ha! Beep boop boop boop beep boop.</td>\n",
       "      <td>0</td>\n",
       "      <td>Pen</td>\n",
       "    </tr>\n",
       "  </tbody>\n",
       "</table>\n",
       "</div>"
      ],
      "text/plain": [
       "   episode                                               text  drop character\n",
       "1        1    Jake! Jake! Good mornin'! Whatcha doin', buddy?     0       Pen\n",
       "2        1                                        Meditating.     0      Jake\n",
       "3        1               What are you meditating about, dude?     0       Pen\n",
       "4        1  Wait, dude. I'm connecting to the internet wit...     0      Jake\n",
       "6        1              Ha ha! Beep boop boop boop beep boop.     0       Pen"
      ]
     },
     "execution_count": 8,
     "metadata": {},
     "output_type": "execute_result"
    }
   ],
   "source": [
    "# modifies the data set\n",
    "df['character'] = ''\n",
    "\n",
    "txt = 'Pen: just a test'\n",
    "for i, row in df.iterrows():\n",
    "    txt = row['text']\n",
    "    df.ix[i, 'character'] = txt[:txt.find(':')].strip()\n",
    "    df.ix[i, 'text'] = txt[txt.find(':') + 1:].strip()\n",
    "\n",
    "df.head()"
   ]
  },
  {
   "cell_type": "code",
   "execution_count": 9,
   "metadata": {
    "collapsed": false
   },
   "outputs": [
    {
     "data": {
      "text/html": [
       "<div>\n",
       "<table border=\"1\" class=\"dataframe\">\n",
       "  <thead>\n",
       "    <tr style=\"text-align: right;\">\n",
       "      <th></th>\n",
       "      <th>episode</th>\n",
       "      <th>text</th>\n",
       "      <th>drop</th>\n",
       "      <th>character</th>\n",
       "    </tr>\n",
       "  </thead>\n",
       "  <tbody>\n",
       "    <tr>\n",
       "      <th>1</th>\n",
       "      <td>0</td>\n",
       "      <td>Jake! Jake! Good mornin'! Whatcha doin', buddy?</td>\n",
       "      <td>0</td>\n",
       "      <td>Pen</td>\n",
       "    </tr>\n",
       "    <tr>\n",
       "      <th>2</th>\n",
       "      <td>0</td>\n",
       "      <td>Meditating.</td>\n",
       "      <td>0</td>\n",
       "      <td>Jake</td>\n",
       "    </tr>\n",
       "    <tr>\n",
       "      <th>3</th>\n",
       "      <td>0</td>\n",
       "      <td>What are you meditating about, dude?</td>\n",
       "      <td>0</td>\n",
       "      <td>Pen</td>\n",
       "    </tr>\n",
       "    <tr>\n",
       "      <th>4</th>\n",
       "      <td>0</td>\n",
       "      <td>Wait, dude. I'm connecting to the internet wit...</td>\n",
       "      <td>0</td>\n",
       "      <td>Jake</td>\n",
       "    </tr>\n",
       "    <tr>\n",
       "      <th>6</th>\n",
       "      <td>0</td>\n",
       "      <td>Ha ha! Beep boop boop boop beep boop.</td>\n",
       "      <td>0</td>\n",
       "      <td>Pen</td>\n",
       "    </tr>\n",
       "  </tbody>\n",
       "</table>\n",
       "</div>"
      ],
      "text/plain": [
       "   episode                                               text  drop character\n",
       "1        0    Jake! Jake! Good mornin'! Whatcha doin', buddy?     0       Pen\n",
       "2        0                                        Meditating.     0      Jake\n",
       "3        0               What are you meditating about, dude?     0       Pen\n",
       "4        0  Wait, dude. I'm connecting to the internet wit...     0      Jake\n",
       "6        0              Ha ha! Beep boop boop boop beep boop.     0       Pen"
      ]
     },
     "execution_count": 9,
     "metadata": {},
     "output_type": "execute_result"
    }
   ],
   "source": [
    "# corrects the episodes\n",
    "df['episode'] = df['episode'] - 1\n",
    "\n",
    "df.head()"
   ]
  },
  {
   "cell_type": "code",
   "execution_count": 10,
   "metadata": {
    "collapsed": false
   },
   "outputs": [
    {
     "data": {
      "text/html": [
       "<div>\n",
       "<table border=\"1\" class=\"dataframe\">\n",
       "  <thead>\n",
       "    <tr style=\"text-align: right;\">\n",
       "      <th></th>\n",
       "      <th>character</th>\n",
       "      <th>lines</th>\n",
       "      <th>vocab</th>\n",
       "    </tr>\n",
       "  </thead>\n",
       "  <tbody>\n",
       "    <tr>\n",
       "      <th>0</th>\n",
       "      <td>Finn</td>\n",
       "      <td>6576</td>\n",
       "      <td>8257</td>\n",
       "    </tr>\n",
       "    <tr>\n",
       "      <th>1</th>\n",
       "      <td>Jake</td>\n",
       "      <td>4757</td>\n",
       "      <td>7210</td>\n",
       "    </tr>\n",
       "    <tr>\n",
       "      <th>2</th>\n",
       "      <td>Princess Bubblegum</td>\n",
       "      <td>1135</td>\n",
       "      <td>3364</td>\n",
       "    </tr>\n",
       "    <tr>\n",
       "      <th>3</th>\n",
       "      <td>Ice King</td>\n",
       "      <td>919</td>\n",
       "      <td>3815</td>\n",
       "    </tr>\n",
       "    <tr>\n",
       "      <th>4</th>\n",
       "      <td>Marceline</td>\n",
       "      <td>481</td>\n",
       "      <td>1647</td>\n",
       "    </tr>\n",
       "  </tbody>\n",
       "</table>\n",
       "</div>"
      ],
      "text/plain": [
       "            character  lines  vocab\n",
       "0                Finn   6576   8257\n",
       "1                Jake   4757   7210\n",
       "2  Princess Bubblegum   1135   3364\n",
       "3            Ice King    919   3815\n",
       "4           Marceline    481   1647"
      ]
     },
     "execution_count": 10,
     "metadata": {},
     "output_type": "execute_result"
    }
   ],
   "source": [
    "# gets the number of lines each character has\n",
    "df['count'] = 1\n",
    "df_vocab = df.ix[:, ['character', 'count']].groupby('character').sum()\n",
    "df_vocab = df_vocab.reset_index()\n",
    "df_vocab = df_vocab.sort_values('count', ascending = False)\n",
    "\n",
    "# gets the vocab size of each character\n",
    "character_list = df_vocab.ix[:top_n_characters, 'character']\n",
    "df_vocab = df_vocab.ix[:top_n_characters, :].reset_index(drop = True)\n",
    "\n",
    "# renames some columns\n",
    "df_vocab['vocab'] = 0\n",
    "df_vocab.columns = ['character', 'lines', 'vocab']\n",
    "\n",
    "for character in character_list:\n",
    "    vocab = df.ix[df['character'] == character, 'text'].tolist()\n",
    "    vocab = ' '.join(vocab) \n",
    "    vocab = word_tokenize(vocab)\n",
    "    vocab = set(vocab)\n",
    "    df_vocab.ix[df_vocab['character'] == character, 'vocab'] = len(vocab)\n",
    "    \n",
    "df_vocab.head()"
   ]
  },
  {
   "cell_type": "code",
   "execution_count": 11,
   "metadata": {
    "collapsed": false
   },
   "outputs": [
    {
     "data": {
      "text/html": [
       "<div>\n",
       "<table border=\"1\" class=\"dataframe\">\n",
       "  <thead>\n",
       "    <tr style=\"text-align: right;\">\n",
       "      <th></th>\n",
       "      <th>character</th>\n",
       "      <th>lines</th>\n",
       "      <th>vocab</th>\n",
       "      <th>vocab_ratio</th>\n",
       "    </tr>\n",
       "  </thead>\n",
       "  <tbody>\n",
       "    <tr>\n",
       "      <th>0</th>\n",
       "      <td>Finn</td>\n",
       "      <td>6576</td>\n",
       "      <td>8257</td>\n",
       "      <td>1.255627</td>\n",
       "    </tr>\n",
       "    <tr>\n",
       "      <th>1</th>\n",
       "      <td>Jake</td>\n",
       "      <td>4757</td>\n",
       "      <td>7210</td>\n",
       "      <td>1.515661</td>\n",
       "    </tr>\n",
       "    <tr>\n",
       "      <th>2</th>\n",
       "      <td>Princess Bubblegum</td>\n",
       "      <td>1135</td>\n",
       "      <td>3364</td>\n",
       "      <td>2.963877</td>\n",
       "    </tr>\n",
       "    <tr>\n",
       "      <th>3</th>\n",
       "      <td>Ice King</td>\n",
       "      <td>919</td>\n",
       "      <td>3815</td>\n",
       "      <td>4.151251</td>\n",
       "    </tr>\n",
       "    <tr>\n",
       "      <th>4</th>\n",
       "      <td>Marceline</td>\n",
       "      <td>481</td>\n",
       "      <td>1647</td>\n",
       "      <td>3.424116</td>\n",
       "    </tr>\n",
       "  </tbody>\n",
       "</table>\n",
       "</div>"
      ],
      "text/plain": [
       "            character  lines  vocab  vocab_ratio\n",
       "0                Finn   6576   8257     1.255627\n",
       "1                Jake   4757   7210     1.515661\n",
       "2  Princess Bubblegum   1135   3364     2.963877\n",
       "3            Ice King    919   3815     4.151251\n",
       "4           Marceline    481   1647     3.424116"
      ]
     },
     "execution_count": 11,
     "metadata": {},
     "output_type": "execute_result"
    }
   ],
   "source": [
    "df_vocab['vocab_ratio'] = df_vocab['vocab'] / df_vocab['lines']\n",
    "df_vocab.head()"
   ]
  },
  {
   "cell_type": "code",
   "execution_count": null,
   "metadata": {
    "collapsed": false
   },
   "outputs": [],
   "source": [
    "# keeps only a set of characters\n",
    "character_list = ['Finn', 'Jake', 'Ice King', 'Princess Bubblegum', 'Marceline', 'BMO']"
   ]
  }
 ],
 "metadata": {
  "kernelspec": {
   "display_name": "Python 3",
   "language": "python",
   "name": "python3"
  }
 },
 "nbformat": 4,
 "nbformat_minor": 0
}
