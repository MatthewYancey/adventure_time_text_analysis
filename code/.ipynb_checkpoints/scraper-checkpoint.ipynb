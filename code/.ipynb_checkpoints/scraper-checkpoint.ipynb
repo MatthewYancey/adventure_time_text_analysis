{
 "cells": [
  {
   "cell_type": "code",
   "execution_count": 3,
   "metadata": {
    "collapsed": false
   },
   "outputs": [],
   "source": [
    "#Beautiful Soup\n",
    "from bs4 import BeautifulSoup\n",
    "import requests\n",
    "\n",
    "#set up\n",
    "url = 'http://adventuretime.wikia.com/wiki/Episodes'\n",
    "\n",
    "#Requests Package\n",
    "at = requests.get(url)\n",
    "soup = BeautifulSoup(at.text, \"lxml\")\n"
   ]
  },
  {
   "cell_type": "code",
   "execution_count": 4,
   "metadata": {
    "collapsed": true
   },
   "outputs": [],
   "source": [
    "results = soup.find_all(style='text-align: center; background: #f2f2f2')\n"
   ]
  },
  {
   "cell_type": "code",
   "execution_count": 12,
   "metadata": {
    "collapsed": false
   },
   "outputs": [],
   "source": [
    "links = []\n",
    "for r in results:\n",
    "    link = r.find_all('a')\n",
    "    try:\n",
    "        links.append(link[1].get('href'))\n",
    "    except IndexError:\n",
    "        pass"
   ]
  },
  {
   "cell_type": "code",
   "execution_count": 14,
   "metadata": {
    "collapsed": false
   },
   "outputs": [],
   "source": [
    "short_url = 'http://adventuretime.wikia.com'\n",
    "for l in links:\n",
    "    at = requests.get(short_url + l + '/Transcript') #adds transcript\n",
    "    soup = BeautifulSoup(at.text, \"lxml\")\n",
    "    dls = soup.find_all('dl')"
   ]
  },
  {
   "cell_type": "code",
   "execution_count": null,
   "metadata": {
    "collapsed": true
   },
   "outputs": [],
   "source": []
  }
 ],
 "metadata": {
  "kernelspec": {
   "display_name": "Python 3",
   "language": "python",
   "name": "python3"
  },
  "language_info": {
   "codemirror_mode": {
    "name": "ipython",
    "version": 3
   },
   "file_extension": ".py",
   "mimetype": "text/x-python",
   "name": "python",
   "nbconvert_exporter": "python",
   "pygments_lexer": "ipython3",
   "version": "3.5.2"
  }
 },
 "nbformat": 4,
 "nbformat_minor": 0
}
