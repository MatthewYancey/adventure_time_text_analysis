{
 "cells": [
  {
   "cell_type": "code",
   "execution_count": 6,
   "metadata": {
    "collapsed": false
   },
   "outputs": [],
   "source": [
    "from nltk.tokenize import word_tokenize\n",
    "import os\n",
    "import pandas as pd\n",
    "\n",
    "\n",
    "df = pd.read_csv(os.getcwd() + '/../data/all_text.csv', encoding = 'iso-8859-1')\n",
    "\n",
    "# top chacters\n",
    "top_n_characters = 20"
   ]
  },
  {
   "cell_type": "code",
   "execution_count": 7,
   "metadata": {
    "collapsed": false
   },
   "outputs": [
    {
     "data": {
      "text/html": [
       "<div>\n",
       "<table border=\"1\" class=\"dataframe\">\n",
       "  <thead>\n",
       "    <tr style=\"text-align: right;\">\n",
       "      <th></th>\n",
       "      <th>episode</th>\n",
       "      <th>text</th>\n",
       "      <th>drop</th>\n",
       "    </tr>\n",
       "  </thead>\n",
       "  <tbody>\n",
       "    <tr>\n",
       "      <th>1</th>\n",
       "      <td>1</td>\n",
       "      <td>Pen:  Jake! Jake! Good mornin'! Whatcha doin',...</td>\n",
       "      <td>0</td>\n",
       "    </tr>\n",
       "    <tr>\n",
       "      <th>2</th>\n",
       "      <td>1</td>\n",
       "      <td>Jake:  Meditating.\\r\\n</td>\n",
       "      <td>0</td>\n",
       "    </tr>\n",
       "    <tr>\n",
       "      <th>3</th>\n",
       "      <td>1</td>\n",
       "      <td>Pen:  What are you meditating about, dude?\\r\\n</td>\n",
       "      <td>0</td>\n",
       "    </tr>\n",
       "    <tr>\n",
       "      <th>4</th>\n",
       "      <td>1</td>\n",
       "      <td>Jake:  Wait, dude. I'm connecting to the inter...</td>\n",
       "      <td>0</td>\n",
       "    </tr>\n",
       "    <tr>\n",
       "      <th>6</th>\n",
       "      <td>1</td>\n",
       "      <td>Pen:  Ha ha! Beep boop boop boop beep boop.\\r\\n</td>\n",
       "      <td>0</td>\n",
       "    </tr>\n",
       "  </tbody>\n",
       "</table>\n",
       "</div>"
      ],
      "text/plain": [
       "   episode                                               text  drop\n",
       "1        1  Pen:  Jake! Jake! Good mornin'! Whatcha doin',...     0\n",
       "2        1                             Jake:  Meditating.\\r\\n     0\n",
       "3        1     Pen:  What are you meditating about, dude?\\r\\n     0\n",
       "4        1  Jake:  Wait, dude. I'm connecting to the inter...     0\n",
       "6        1    Pen:  Ha ha! Beep boop boop boop beep boop.\\r\\n     0"
      ]
     },
     "execution_count": 7,
     "metadata": {},
     "output_type": "execute_result"
    }
   ],
   "source": [
    "# drops lines that aren't dialog\n",
    "df['drop'] = 0\n",
    "df.ix[df['text'].str[0] == '[', 'drop'] = 1\n",
    "df = df.ix[df['drop'] == 0, :]\n",
    "df.head()"
   ]
  },
  {
   "cell_type": "code",
   "execution_count": null,
   "metadata": {
    "collapsed": false
   },
   "outputs": [],
   "source": [
    "# modifies the data set\n",
    "df['character'] = ''\n",
    "\n",
    "txt = 'Pen: just a test'\n",
    "for i, row in df.iterrows():\n",
    "    txt = row['text']\n",
    "    df.ix[i, 'character'] = txt[:txt.find(':')].strip()\n",
    "    df.ix[i, 'text'] = txt[txt.find(':') + 1:].strip()\n",
    "\n",
    "df.head()"
   ]
  },
  {
   "cell_type": "code",
   "execution_count": null,
   "metadata": {
    "collapsed": false
   },
   "outputs": [],
   "source": [
    "# corrects the episodes\n",
    "df['episode'] = df['episode'] - 1\n",
    "\n",
    "df.head()"
   ]
  },
  {
   "cell_type": "code",
   "execution_count": null,
   "metadata": {
    "collapsed": false
   },
   "outputs": [],
   "source": [
    "# gets the number of lines each character has\n",
    "df['count'] = 1\n",
    "df_vocab = df.ix[:, ['character', 'count']].groupby('character').sum()\n",
    "df_vocab = df_vocab.reset_index()\n",
    "df_vocab = df_vocab.sort_values('count', ascending = False)\n",
    "\n",
    "# gets the vocab size of each character\n",
    "character_list = df_vocab.ix[:top_n_characters, 'character']\n",
    "df_vocab = df_vocab.ix[:top_n_characters, :].reset_index(drop = True)\n",
    "\n",
    "# renames some columns\n",
    "df_vocab['vocab'] = 0\n",
    "df_vocab.columns = ['character', 'lines', 'vocab']\n",
    "\n",
    "for character in character_list:\n",
    "    vocab = df.ix[df['character'] == character, 'text'].tolist()\n",
    "    vocab = ' '.join(vocab) \n",
    "    vocab = word_tokenize(vocab)\n",
    "    vocab = set(vocab)\n",
    "    df_vocab.ix[df_vocab['character'] == character, 'vocab'] = len(vocab)\n",
    "    \n",
    "df_vocab.head()"
   ]
  },
  {
   "cell_type": "code",
   "execution_count": null,
   "metadata": {
    "collapsed": false
   },
   "outputs": [],
   "source": [
    "# keeps only a set of characters\n",
    "character_list = ['Finn', 'Jake', 'Ice King', 'Princess Bubblegum', 'Marceline', 'BMO']"
   ]
  }
 ],
 "metadata": {
  "kernelspec": {
   "display_name": "Python 3",
   "language": "python",
   "name": "python3"
  }
 },
 "nbformat": 4,
 "nbformat_minor": 0
}
